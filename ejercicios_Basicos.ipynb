{
  "nbformat": 4,
  "nbformat_minor": 0,
  "metadata": {
    "colab": {
      "provenance": [],
      "authorship_tag": "ABX9TyN6WLlZZeudbBsw3rdyGfjd",
      "include_colab_link": true
    },
    "kernelspec": {
      "name": "python3",
      "display_name": "Python 3"
    },
    "language_info": {
      "name": "python"
    }
  },
  "cells": [
    {
      "cell_type": "markdown",
      "metadata": {
        "id": "view-in-github",
        "colab_type": "text"
      },
      "source": [
        "<a href=\"https://colab.research.google.com/github/Kevinsolanoxd/Ejercicos_Basicos_Colap/blob/main/ejercicios_Basicos.ipynb\" target=\"_parent\"><img src=\"https://colab.research.google.com/assets/colab-badge.svg\" alt=\"Open In Colab\"/></a>"
      ]
    },
    {
      "cell_type": "markdown",
      "source": [
        "# Ejercicios básicos Python\n",
        "-1. Suma de dos números\n",
        "-2. Potencia de un número "
      ],
      "metadata": {
        "id": "7lj-FYhGgcto"
      }
    },
    {
      "cell_type": "code",
      "source": [
        "# suma de dos números enteros \n",
        "\n",
        "print('-------------------------')\n",
        "print('--suma de dos enteros--- ')\n",
        "print('-------------------------')\n",
        "# Input\n",
        "x= int(input('Dijite el valor de x: '))\n",
        "y= int(input('dijite el valor de y: '))\n",
        "#Procesing\n",
        "z=x+y\n",
        "# output\n",
        "print('La suma de ',x,' mas ',y ,' es ',z )"
      ],
      "metadata": {
        "colab": {
          "base_uri": "https://localhost:8080/"
        },
        "id": "2bzvXwWdhBHS",
        "outputId": "42289702-989c-4d25-a9b7-775332bfc008"
      },
      "execution_count": 4,
      "outputs": [
        {
          "output_type": "stream",
          "name": "stdout",
          "text": [
            "-------------------------\n",
            "--suma de dos enteros--- \n",
            "-------------------------\n",
            "Dijite el valor de x: 5\n",
            "dijite el valor de y: 7\n",
            "La suma de  5  mas  7  es  12\n"
          ]
        }
      ]
    }
  ]
}